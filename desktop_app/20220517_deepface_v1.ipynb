{
 "cells": [
  {
   "cell_type": "code",
   "execution_count": 1,
   "metadata": {},
   "outputs": [
    {
     "ename": "ImportError",
     "evalue": "cannot import name 'data' from partially initialized module 'cv2' (most likely due to a circular import) (c:\\Users\\Lenovo\\anaconda3\\lib\\site-packages\\cv2\\__init__.py)",
     "output_type": "error",
     "traceback": [
      "\u001b[1;31m---------------------------------------------------------------------------\u001b[0m",
      "\u001b[1;31mImportError\u001b[0m                               Traceback (most recent call last)",
      "\u001b[1;32mc:\\Users\\Lenovo\\Documents\\[learning]\\ta\\app_v2\\20220517_deepface_v1.ipynb Cell 1'\u001b[0m in \u001b[0;36m<cell line: 1>\u001b[1;34m()\u001b[0m\n\u001b[1;32m----> <a href='vscode-notebook-cell:/c%3A/Users/Lenovo/Documents/%5Blearning%5D/ta/app_v2/20220517_deepface_v1.ipynb#ch0000000?line=0'>1</a>\u001b[0m \u001b[39mimport\u001b[39;00m \u001b[39mcv2\u001b[39;00m\n\u001b[0;32m      <a href='vscode-notebook-cell:/c%3A/Users/Lenovo/Documents/%5Blearning%5D/ta/app_v2/20220517_deepface_v1.ipynb#ch0000000?line=1'>2</a>\u001b[0m cv2\u001b[39m.\u001b[39m__version__\n\u001b[0;32m      <a href='vscode-notebook-cell:/c%3A/Users/Lenovo/Documents/%5Blearning%5D/ta/app_v2/20220517_deepface_v1.ipynb#ch0000000?line=2'>3</a>\u001b[0m \u001b[39mfrom\u001b[39;00m \u001b[39mdeepface\u001b[39;00m \u001b[39mimport\u001b[39;00m DeepFace\n",
      "File \u001b[1;32mc:\\Users\\Lenovo\\anaconda3\\lib\\site-packages\\cv2\\__init__.py:14\u001b[0m, in \u001b[0;36m<module>\u001b[1;34m\u001b[0m\n\u001b[0;32m     <a href='file:///c%3A/Users/Lenovo/anaconda3/lib/site-packages/cv2/__init__.py?line=11'>12</a>\u001b[0m \u001b[39mfrom\u001b[39;00m \u001b[39m.\u001b[39;00m \u001b[39mimport\u001b[39;00m misc\n\u001b[0;32m     <a href='file:///c%3A/Users/Lenovo/anaconda3/lib/site-packages/cv2/__init__.py?line=12'>13</a>\u001b[0m \u001b[39mfrom\u001b[39;00m \u001b[39m.\u001b[39;00m \u001b[39mimport\u001b[39;00m utils\n\u001b[1;32m---> <a href='file:///c%3A/Users/Lenovo/anaconda3/lib/site-packages/cv2/__init__.py?line=13'>14</a>\u001b[0m \u001b[39mfrom\u001b[39;00m \u001b[39m.\u001b[39;00m \u001b[39mimport\u001b[39;00m data\n\u001b[0;32m     <a href='file:///c%3A/Users/Lenovo/anaconda3/lib/site-packages/cv2/__init__.py?line=14'>15</a>\u001b[0m \u001b[39mfrom\u001b[39;00m \u001b[39m.\u001b[39;00m \u001b[39mimport\u001b[39;00m version\n\u001b[0;32m     <a href='file:///c%3A/Users/Lenovo/anaconda3/lib/site-packages/cv2/__init__.py?line=16'>17</a>\u001b[0m __all__ \u001b[39m=\u001b[39m []\n",
      "\u001b[1;31mImportError\u001b[0m: cannot import name 'data' from partially initialized module 'cv2' (most likely due to a circular import) (c:\\Users\\Lenovo\\anaconda3\\lib\\site-packages\\cv2\\__init__.py)"
     ]
    }
   ],
   "source": [
    "import cv2\n",
    "cv2.__version__\n",
    "from deepface import DeepFace\n",
    "\n",
    "faceCascade = cv2.CascadeClassifier('haarcascade_files/haarcascade_frontalface_default.xml')\n",
    "\n",
    "cap = cv2.VideoCapture(2)\n",
    "if not cap.isOpened():\n",
    "    cap = cv2.VideoCapture(0)\n",
    "if not cap.isOpened():\n",
    "    raise IOError(\"Cannot open webcam\")\n",
    "\n",
    "while True:\n",
    "    ret, frame = cap.read()\n",
    "    result = DeepFace.analyze(frame, actions=['emotion'])\n",
    "    \n",
    "    gray = cv2.cvtColor(frame, cv2.COLOR_BGR2GRAY)\n",
    "    faces = faceCascade.detectMultiScale(gray, 1.1, 4)\n",
    "    \n",
    "    for (x, y, w, h) in faces:\n",
    "        cv2.rectangle(frame, (x, y), (x+w, y+h), (255, 0, 0), 2)\n",
    "        \n",
    "    font = cv2.FONT_HERSHEY_SIMPLEX\n",
    "    \n",
    "    cv2.putText(frame, result['dominant_emotion'], (10, 30), font, 1, (0, 255, 0), 2, cv2.LINE_4)\n",
    "    \n",
    "    cv2.imshow('Original Video', frame)\n",
    "    \n",
    "    if cv2.waitKey(1) & 0xFF == ord('q'):\n",
    "        break\n",
    "    \n",
    "cap.release()\n",
    "cv2.destroyAllWindows()\n",
    "    "
   ]
  }
 ],
 "metadata": {
  "interpreter": {
   "hash": "20a9e06a1eee47c4abbed4ec8225ad91d78d9800d202b71b6b0a6e47016c6abd"
  },
  "kernelspec": {
   "display_name": "Python 3.8.5 ('base')",
   "language": "python",
   "name": "python3"
  },
  "language_info": {
   "codemirror_mode": {
    "name": "ipython",
    "version": 3
   },
   "file_extension": ".py",
   "mimetype": "text/x-python",
   "name": "python",
   "nbconvert_exporter": "python",
   "pygments_lexer": "ipython3",
   "version": "3.8.5"
  },
  "orig_nbformat": 4
 },
 "nbformat": 4,
 "nbformat_minor": 2
}
